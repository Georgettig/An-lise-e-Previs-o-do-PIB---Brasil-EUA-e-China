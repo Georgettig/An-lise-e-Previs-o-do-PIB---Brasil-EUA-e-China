{
 "cells": [
  {
   "cell_type": "markdown",
   "id": "ef58fc4e",
   "metadata": {},
   "source": [
    "# Análise de Crescimento e Tendência do PIB "
   ]
  },
  {
   "cell_type": "markdown",
   "id": "b13c4178",
   "metadata": {},
   "source": [
    "* Importando Bibliotecas"
   ]
  },
  {
   "cell_type": "code",
   "execution_count": 3,
   "id": "766e1b91",
   "metadata": {},
   "outputs": [],
   "source": [
    "import pandas as pd\n",
    "import numpy as np\n",
    "import matplotlib.pyplot as plt\n",
    "import wbdata\n",
    "from datetime import datetime"
   ]
  },
  {
   "cell_type": "code",
   "execution_count": 163,
   "id": "44b7fa86",
   "metadata": {},
   "outputs": [],
   "source": [
    "import warnings\n",
    "\n",
    "warnings.filterwarnings('ignore')"
   ]
  },
  {
   "cell_type": "markdown",
   "id": "7f49fee6",
   "metadata": {},
   "source": [
    "* Selecionando o PIB como indicador"
   ]
  },
  {
   "cell_type": "code",
   "execution_count": 61,
   "id": "d30bd1e0",
   "metadata": {},
   "outputs": [],
   "source": [
    "indicators = wbdata.get_indicators()\n",
    "indicador = {'NY.GDP.MKTP.CD':'GDP (current U$$)'}"
   ]
  },
  {
   "cell_type": "markdown",
   "id": "91507a39",
   "metadata": {},
   "source": [
    "* Criando DataFrame com os dados de Brasil, EUA e China"
   ]
  },
  {
   "cell_type": "code",
   "execution_count": 62,
   "id": "27a91ec7",
   "metadata": {},
   "outputs": [
    {
     "data": {
      "text/html": [
       "<div>\n",
       "<style scoped>\n",
       "    .dataframe tbody tr th:only-of-type {\n",
       "        vertical-align: middle;\n",
       "    }\n",
       "\n",
       "    .dataframe tbody tr th {\n",
       "        vertical-align: top;\n",
       "    }\n",
       "\n",
       "    .dataframe thead th {\n",
       "        text-align: right;\n",
       "    }\n",
       "</style>\n",
       "<table border=\"1\" class=\"dataframe\">\n",
       "  <thead>\n",
       "    <tr style=\"text-align: right;\">\n",
       "      <th></th>\n",
       "      <th>country</th>\n",
       "      <th>date</th>\n",
       "      <th>GDP (current U$$)</th>\n",
       "    </tr>\n",
       "  </thead>\n",
       "  <tbody>\n",
       "    <tr>\n",
       "      <th>0</th>\n",
       "      <td>Brazil</td>\n",
       "      <td>2023</td>\n",
       "      <td>2.173666e+12</td>\n",
       "    </tr>\n",
       "    <tr>\n",
       "      <th>1</th>\n",
       "      <td>Brazil</td>\n",
       "      <td>2022</td>\n",
       "      <td>1.951924e+12</td>\n",
       "    </tr>\n",
       "    <tr>\n",
       "      <th>2</th>\n",
       "      <td>Brazil</td>\n",
       "      <td>2021</td>\n",
       "      <td>1.670647e+12</td>\n",
       "    </tr>\n",
       "    <tr>\n",
       "      <th>3</th>\n",
       "      <td>Brazil</td>\n",
       "      <td>2020</td>\n",
       "      <td>1.476107e+12</td>\n",
       "    </tr>\n",
       "    <tr>\n",
       "      <th>4</th>\n",
       "      <td>Brazil</td>\n",
       "      <td>2019</td>\n",
       "      <td>1.873288e+12</td>\n",
       "    </tr>\n",
       "    <tr>\n",
       "      <th>...</th>\n",
       "      <td>...</td>\n",
       "      <td>...</td>\n",
       "      <td>...</td>\n",
       "    </tr>\n",
       "    <tr>\n",
       "      <th>67</th>\n",
       "      <td>United States</td>\n",
       "      <td>2004</td>\n",
       "      <td>1.221720e+13</td>\n",
       "    </tr>\n",
       "    <tr>\n",
       "      <th>68</th>\n",
       "      <td>United States</td>\n",
       "      <td>2003</td>\n",
       "      <td>1.145645e+13</td>\n",
       "    </tr>\n",
       "    <tr>\n",
       "      <th>69</th>\n",
       "      <td>United States</td>\n",
       "      <td>2002</td>\n",
       "      <td>1.092911e+13</td>\n",
       "    </tr>\n",
       "    <tr>\n",
       "      <th>70</th>\n",
       "      <td>United States</td>\n",
       "      <td>2001</td>\n",
       "      <td>1.058193e+13</td>\n",
       "    </tr>\n",
       "    <tr>\n",
       "      <th>71</th>\n",
       "      <td>United States</td>\n",
       "      <td>2000</td>\n",
       "      <td>1.025095e+13</td>\n",
       "    </tr>\n",
       "  </tbody>\n",
       "</table>\n",
       "<p>72 rows × 3 columns</p>\n",
       "</div>"
      ],
      "text/plain": [
       "          country  date  GDP (current U$$)\n",
       "0          Brazil  2023       2.173666e+12\n",
       "1          Brazil  2022       1.951924e+12\n",
       "2          Brazil  2021       1.670647e+12\n",
       "3          Brazil  2020       1.476107e+12\n",
       "4          Brazil  2019       1.873288e+12\n",
       "..            ...   ...                ...\n",
       "67  United States  2004       1.221720e+13\n",
       "68  United States  2003       1.145645e+13\n",
       "69  United States  2002       1.092911e+13\n",
       "70  United States  2001       1.058193e+13\n",
       "71  United States  2000       1.025095e+13\n",
       "\n",
       "[72 rows x 3 columns]"
      ]
     },
     "execution_count": 62,
     "metadata": {},
     "output_type": "execute_result"
    }
   ],
   "source": [
    "data = wbdata.get_dataframe(indicador, country=['BR','US','CN'], date=(datetime(2000,1,1), datetime(2025,1,1)))\n",
    "data = data.reset_index()\n",
    "data"
   ]
  },
  {
   "cell_type": "markdown",
   "id": "55f0c7ba",
   "metadata": {},
   "source": [
    "* Criando arquivo CSV"
   ]
  },
  {
   "cell_type": "code",
   "execution_count": 67,
   "id": "253c9e16",
   "metadata": {},
   "outputs": [],
   "source": [
    "data.to_csv('PIB.csv')"
   ]
  },
  {
   "cell_type": "markdown",
   "id": "16a5a0b1",
   "metadata": {},
   "source": [
    "# Análise de Crescimento "
   ]
  },
  {
   "cell_type": "markdown",
   "id": "b60c14c0",
   "metadata": {},
   "source": [
    "* Dividindo bases de dados por páis"
   ]
  },
  {
   "cell_type": "code",
   "execution_count": 185,
   "id": "977e4470",
   "metadata": {},
   "outputs": [],
   "source": [
    "brasil = data[data.country == 'Brazil']\n",
    "usa = data[data.country == 'United States']\n",
    "china = data[data.country == 'China']"
   ]
  },
  {
   "cell_type": "markdown",
   "id": "3b2956f3",
   "metadata": {},
   "source": [
    "* Sorteando datas em ordem crescente"
   ]
  },
  {
   "cell_type": "code",
   "execution_count": 186,
   "id": "01c5b5a8",
   "metadata": {},
   "outputs": [],
   "source": [
    "brasil = brasil.sort_values(by='date')\n",
    "usa = usa.sort_values(by='date')\n",
    "china = china.sort_values(by='date')"
   ]
  },
  {
   "cell_type": "markdown",
   "id": "50050079",
   "metadata": {},
   "source": [
    "* Visualização dos dados"
   ]
  },
  {
   "cell_type": "code",
   "execution_count": 135,
   "id": "78ef50dd",
   "metadata": {},
   "outputs": [
    {
     "data": {
      "image/png": "[encoded data removed]",
      "text/plain": [
       "<Figure size 1080x432 with 1 Axes>"
      ]
     },
     "metadata": {
      "needs_background": "light"
     },
     "output_type": "display_data"
    }
   ],
   "source": [
    "plt.figure(figsize=(15,6))\n",
    "plt.plot(brasil['date'], brasil['GDP (current U$$)'], label='Brasil', marker='o')\n",
    "plt.plot(usa['date'], usa['GDP (current U$$)'], label='EUA', marker='o')\n",
    "plt.plot(china['date'], china['GDP (current U$$)'], label='China', marker='o')\n",
    "plt.title('PIB ao longo dos anos', size=14)\n",
    "plt.ylabel('PIB (U$)')\n",
    "plt.legend()\n",
    "plt.show()"
   ]
  },
  {
   "cell_type": "markdown",
   "id": "7c3cccf0",
   "metadata": {},
   "source": [
    "# Brasil"
   ]
  },
  {
   "cell_type": "markdown",
   "id": "d0fb8f67",
   "metadata": {},
   "source": [
    "* Tendência Brasil"
   ]
  },
  {
   "cell_type": "code",
   "execution_count": 136,
   "id": "0c132a0d",
   "metadata": {},
   "outputs": [],
   "source": [
    "from statsmodels.tsa.seasonal import seasonal_decompose"
   ]
  },
  {
   "cell_type": "code",
   "execution_count": 187,
   "id": "d2376050",
   "metadata": {},
   "outputs": [
    {
     "data": {
      "text/html": [
       "<div>\n",
       "<style scoped>\n",
       "    .dataframe tbody tr th:only-of-type {\n",
       "        vertical-align: middle;\n",
       "    }\n",
       "\n",
       "    .dataframe tbody tr th {\n",
       "        vertical-align: top;\n",
       "    }\n",
       "\n",
       "    .dataframe thead th {\n",
       "        text-align: right;\n",
       "    }\n",
       "</style>\n",
       "<table border=\"1\" class=\"dataframe\">\n",
       "  <thead>\n",
       "    <tr style=\"text-align: right;\">\n",
       "      <th></th>\n",
       "      <th>country</th>\n",
       "      <th>GDP (current U$$)</th>\n",
       "    </tr>\n",
       "    <tr>\n",
       "      <th>date</th>\n",
       "      <th></th>\n",
       "      <th></th>\n",
       "    </tr>\n",
       "  </thead>\n",
       "  <tbody>\n",
       "    <tr>\n",
       "      <th>2000-01-01</th>\n",
       "      <td>Brazil</td>\n",
       "      <td>6.554482e+11</td>\n",
       "    </tr>\n",
       "    <tr>\n",
       "      <th>2001-01-01</th>\n",
       "      <td>Brazil</td>\n",
       "      <td>5.599836e+11</td>\n",
       "    </tr>\n",
       "    <tr>\n",
       "      <th>2002-01-01</th>\n",
       "      <td>Brazil</td>\n",
       "      <td>5.097953e+11</td>\n",
       "    </tr>\n",
       "    <tr>\n",
       "      <th>2003-01-01</th>\n",
       "      <td>Brazil</td>\n",
       "      <td>5.582337e+11</td>\n",
       "    </tr>\n",
       "    <tr>\n",
       "      <th>2004-01-01</th>\n",
       "      <td>Brazil</td>\n",
       "      <td>6.692894e+11</td>\n",
       "    </tr>\n",
       "    <tr>\n",
       "      <th>2005-01-01</th>\n",
       "      <td>Brazil</td>\n",
       "      <td>8.916338e+11</td>\n",
       "    </tr>\n",
       "    <tr>\n",
       "      <th>2006-01-01</th>\n",
       "      <td>Brazil</td>\n",
       "      <td>1.107627e+12</td>\n",
       "    </tr>\n",
       "    <tr>\n",
       "      <th>2007-01-01</th>\n",
       "      <td>Brazil</td>\n",
       "      <td>1.397114e+12</td>\n",
       "    </tr>\n",
       "    <tr>\n",
       "      <th>2008-01-01</th>\n",
       "      <td>Brazil</td>\n",
       "      <td>1.695855e+12</td>\n",
       "    </tr>\n",
       "    <tr>\n",
       "      <th>2009-01-01</th>\n",
       "      <td>Brazil</td>\n",
       "      <td>1.666996e+12</td>\n",
       "    </tr>\n",
       "    <tr>\n",
       "      <th>2010-01-01</th>\n",
       "      <td>Brazil</td>\n",
       "      <td>2.208838e+12</td>\n",
       "    </tr>\n",
       "    <tr>\n",
       "      <th>2011-01-01</th>\n",
       "      <td>Brazil</td>\n",
       "      <td>2.616156e+12</td>\n",
       "    </tr>\n",
       "    <tr>\n",
       "      <th>2012-01-01</th>\n",
       "      <td>Brazil</td>\n",
       "      <td>2.465228e+12</td>\n",
       "    </tr>\n",
       "    <tr>\n",
       "      <th>2013-01-01</th>\n",
       "      <td>Brazil</td>\n",
       "      <td>2.472820e+12</td>\n",
       "    </tr>\n",
       "    <tr>\n",
       "      <th>2014-01-01</th>\n",
       "      <td>Brazil</td>\n",
       "      <td>2.456044e+12</td>\n",
       "    </tr>\n",
       "    <tr>\n",
       "      <th>2015-01-01</th>\n",
       "      <td>Brazil</td>\n",
       "      <td>1.802212e+12</td>\n",
       "    </tr>\n",
       "    <tr>\n",
       "      <th>2016-01-01</th>\n",
       "      <td>Brazil</td>\n",
       "      <td>1.795693e+12</td>\n",
       "    </tr>\n",
       "    <tr>\n",
       "      <th>2017-01-01</th>\n",
       "      <td>Brazil</td>\n",
       "      <td>2.063515e+12</td>\n",
       "    </tr>\n",
       "    <tr>\n",
       "      <th>2018-01-01</th>\n",
       "      <td>Brazil</td>\n",
       "      <td>1.916934e+12</td>\n",
       "    </tr>\n",
       "    <tr>\n",
       "      <th>2019-01-01</th>\n",
       "      <td>Brazil</td>\n",
       "      <td>1.873288e+12</td>\n",
       "    </tr>\n",
       "    <tr>\n",
       "      <th>2020-01-01</th>\n",
       "      <td>Brazil</td>\n",
       "      <td>1.476107e+12</td>\n",
       "    </tr>\n",
       "    <tr>\n",
       "      <th>2021-01-01</th>\n",
       "      <td>Brazil</td>\n",
       "      <td>1.670647e+12</td>\n",
       "    </tr>\n",
       "    <tr>\n",
       "      <th>2022-01-01</th>\n",
       "      <td>Brazil</td>\n",
       "      <td>1.951924e+12</td>\n",
       "    </tr>\n",
       "    <tr>\n",
       "      <th>2023-01-01</th>\n",
       "      <td>Brazil</td>\n",
       "      <td>2.173666e+12</td>\n",
       "    </tr>\n",
       "  </tbody>\n",
       "</table>\n",
       "</div>"
      ],
      "text/plain": [
       "           country  GDP (current U$$)\n",
       "date                                 \n",
       "2000-01-01  Brazil       6.554482e+11\n",
       "2001-01-01  Brazil       5.599836e+11\n",
       "2002-01-01  Brazil       5.097953e+11\n",
       "2003-01-01  Brazil       5.582337e+11\n",
       "2004-01-01  Brazil       6.692894e+11\n",
       "2005-01-01  Brazil       8.916338e+11\n",
       "2006-01-01  Brazil       1.107627e+12\n",
       "2007-01-01  Brazil       1.397114e+12\n",
       "2008-01-01  Brazil       1.695855e+12\n",
       "2009-01-01  Brazil       1.666996e+12\n",
       "2010-01-01  Brazil       2.208838e+12\n",
       "2011-01-01  Brazil       2.616156e+12\n",
       "2012-01-01  Brazil       2.465228e+12\n",
       "2013-01-01  Brazil       2.472820e+12\n",
       "2014-01-01  Brazil       2.456044e+12\n",
       "2015-01-01  Brazil       1.802212e+12\n",
       "2016-01-01  Brazil       1.795693e+12\n",
       "2017-01-01  Brazil       2.063515e+12\n",
       "2018-01-01  Brazil       1.916934e+12\n",
       "2019-01-01  Brazil       1.873288e+12\n",
       "2020-01-01  Brazil       1.476107e+12\n",
       "2021-01-01  Brazil       1.670647e+12\n",
       "2022-01-01  Brazil       1.951924e+12\n",
       "2023-01-01  Brazil       2.173666e+12"
      ]
     },
     "execution_count": 187,
     "metadata": {},
     "output_type": "execute_result"
    }
   ],
   "source": [
    "brasil['date'] = pd.to_datetime(brasil['date'])\n",
    "brasil = brasil.set_index('date')\n",
    "brasil"
   ]
  },
  {
   "cell_type": "code",
   "execution_count": 188,
   "id": "e3084fd5",
   "metadata": {},
   "outputs": [],
   "source": [
    "decomposicao_brasil = seasonal_decompose(brasil['GDP (current U$$)'])"
   ]
  },
  {
   "cell_type": "code",
   "execution_count": 189,
   "id": "d5e3fc66",
   "metadata": {},
   "outputs": [],
   "source": [
    "tendencia_brasil = decomposicao_brasil.trend"
   ]
  },
  {
   "cell_type": "code",
   "execution_count": 289,
   "id": "5d2684f2",
   "metadata": {},
   "outputs": [
    {
     "data": {
      "image/png": "[encoded data removed]",
      "text/plain": [
       "<Figure size 504x360 with 1 Axes>"
      ]
     },
     "metadata": {
      "needs_background": "light"
     },
     "output_type": "display_data"
    }
   ],
   "source": [
    "plt.figure(figsize=(7,5))\n",
    "plt.plot(tendencia_brasil)\n",
    "plt.title('Tendência Brasil', size=14)\n",
    "plt.ylabel('Valor PIB (U$)')\n",
    "plt.show()"
   ]
  },
  {
   "cell_type": "markdown",
   "id": "577f861a",
   "metadata": {},
   "source": [
    "* Previsão com Arima"
   ]
  },
  {
   "cell_type": "code",
   "execution_count": 254,
   "id": "1343bf36",
   "metadata": {},
   "outputs": [],
   "source": [
    "from pmdarima.arima import auto_arima"
   ]
  },
  {
   "cell_type": "code",
   "execution_count": 255,
   "id": "46e1230d",
   "metadata": {},
   "outputs": [
    {
     "data": {
      "text/plain": [
       "24"
      ]
     },
     "execution_count": 255,
     "metadata": {},
     "output_type": "execute_result"
    }
   ],
   "source": [
    "len(brasil)"
   ]
  },
  {
   "cell_type": "code",
   "execution_count": 346,
   "id": "7ebc3e08",
   "metadata": {},
   "outputs": [],
   "source": [
    "train = brasil['GDP (current U$$)'][:12]\n",
    "test = brasil['GDP (current U$$)'][12:]"
   ]
  },
  {
   "cell_type": "code",
   "execution_count": 347,
   "id": "72c67ffc",
   "metadata": {},
   "outputs": [],
   "source": [
    "model = auto_arima(train, seasonal=False, suppress_warnings=True)"
   ]
  },
  {
   "cell_type": "code",
   "execution_count": 348,
   "id": "e0cf369a",
   "metadata": {},
   "outputs": [],
   "source": [
    "forecast = model.predict(n_periods=len(test))\n",
    "predictions_br = pd.DataFrame(forecast, columns=['PIB_Predictions'])"
   ]
  },
  {
   "cell_type": "code",
   "execution_count": 349,
   "id": "50fd7ff1",
   "metadata": {},
   "outputs": [],
   "source": [
    "predictions_br['Date'] = test.index\n",
    "predictions_br.set_index('Date', inplace=True)"
   ]
  },
  {
   "cell_type": "code",
   "execution_count": 350,
   "id": "6651fe5b",
   "metadata": {},
   "outputs": [
    {
     "data": {
      "image/png": "[encoded data removed]",
      "text/plain": [
       "<Figure size 504x360 with 1 Axes>"
      ]
     },
     "metadata": {
      "needs_background": "light"
     },
     "output_type": "display_data"
    }
   ],
   "source": [
    "plt.figure(figsize=(7,5))\n",
    "plt.plot(train, label='Train')\n",
    "plt.plot(test, label='Test')\n",
    "plt.plot(predictions_br, label='Predictions')\n",
    "plt.title('Previsão do PIB - Brasil', size=14)\n",
    "plt.legend()\n",
    "plt.ylabel('Valor PIB (U$)')\n",
    "plt.show()"
   ]
  },
  {
   "cell_type": "markdown",
   "id": "78f8ed1a",
   "metadata": {},
   "source": [
    "# Estados Unidos"
   ]
  },
  {
   "cell_type": "markdown",
   "id": "b64c0811",
   "metadata": {},
   "source": [
    "* Tendência Estados Unidos"
   ]
  },
  {
   "cell_type": "code",
   "execution_count": 208,
   "id": "f32b4191",
   "metadata": {},
   "outputs": [
    {
     "data": {
      "text/html": [
       "<div>\n",
       "<style scoped>\n",
       "    .dataframe tbody tr th:only-of-type {\n",
       "        vertical-align: middle;\n",
       "    }\n",
       "\n",
       "    .dataframe tbody tr th {\n",
       "        vertical-align: top;\n",
       "    }\n",
       "\n",
       "    .dataframe thead th {\n",
       "        text-align: right;\n",
       "    }\n",
       "</style>\n",
       "<table border=\"1\" class=\"dataframe\">\n",
       "  <thead>\n",
       "    <tr style=\"text-align: right;\">\n",
       "      <th></th>\n",
       "      <th>country</th>\n",
       "      <th>GDP (current U$$)</th>\n",
       "    </tr>\n",
       "    <tr>\n",
       "      <th>date</th>\n",
       "      <th></th>\n",
       "      <th></th>\n",
       "    </tr>\n",
       "  </thead>\n",
       "  <tbody>\n",
       "    <tr>\n",
       "      <th>2000-01-01</th>\n",
       "      <td>United States</td>\n",
       "      <td>1.025095e+13</td>\n",
       "    </tr>\n",
       "    <tr>\n",
       "      <th>2001-01-01</th>\n",
       "      <td>United States</td>\n",
       "      <td>1.058193e+13</td>\n",
       "    </tr>\n",
       "    <tr>\n",
       "      <th>2002-01-01</th>\n",
       "      <td>United States</td>\n",
       "      <td>1.092911e+13</td>\n",
       "    </tr>\n",
       "    <tr>\n",
       "      <th>2003-01-01</th>\n",
       "      <td>United States</td>\n",
       "      <td>1.145645e+13</td>\n",
       "    </tr>\n",
       "    <tr>\n",
       "      <th>2004-01-01</th>\n",
       "      <td>United States</td>\n",
       "      <td>1.221720e+13</td>\n",
       "    </tr>\n",
       "    <tr>\n",
       "      <th>2005-01-01</th>\n",
       "      <td>United States</td>\n",
       "      <td>1.303920e+13</td>\n",
       "    </tr>\n",
       "    <tr>\n",
       "      <th>2006-01-01</th>\n",
       "      <td>United States</td>\n",
       "      <td>1.381558e+13</td>\n",
       "    </tr>\n",
       "    <tr>\n",
       "      <th>2007-01-01</th>\n",
       "      <td>United States</td>\n",
       "      <td>1.447423e+13</td>\n",
       "    </tr>\n",
       "    <tr>\n",
       "      <th>2008-01-01</th>\n",
       "      <td>United States</td>\n",
       "      <td>1.476986e+13</td>\n",
       "    </tr>\n",
       "    <tr>\n",
       "      <th>2009-01-01</th>\n",
       "      <td>United States</td>\n",
       "      <td>1.447807e+13</td>\n",
       "    </tr>\n",
       "    <tr>\n",
       "      <th>2010-01-01</th>\n",
       "      <td>United States</td>\n",
       "      <td>1.504897e+13</td>\n",
       "    </tr>\n",
       "    <tr>\n",
       "      <th>2011-01-01</th>\n",
       "      <td>United States</td>\n",
       "      <td>1.559973e+13</td>\n",
       "    </tr>\n",
       "    <tr>\n",
       "      <th>2012-01-01</th>\n",
       "      <td>United States</td>\n",
       "      <td>1.625397e+13</td>\n",
       "    </tr>\n",
       "    <tr>\n",
       "      <th>2013-01-01</th>\n",
       "      <td>United States</td>\n",
       "      <td>1.688068e+13</td>\n",
       "    </tr>\n",
       "    <tr>\n",
       "      <th>2014-01-01</th>\n",
       "      <td>United States</td>\n",
       "      <td>1.760814e+13</td>\n",
       "    </tr>\n",
       "    <tr>\n",
       "      <th>2015-01-01</th>\n",
       "      <td>United States</td>\n",
       "      <td>1.829502e+13</td>\n",
       "    </tr>\n",
       "    <tr>\n",
       "      <th>2016-01-01</th>\n",
       "      <td>United States</td>\n",
       "      <td>1.880491e+13</td>\n",
       "    </tr>\n",
       "    <tr>\n",
       "      <th>2017-01-01</th>\n",
       "      <td>United States</td>\n",
       "      <td>1.961210e+13</td>\n",
       "    </tr>\n",
       "    <tr>\n",
       "      <th>2018-01-01</th>\n",
       "      <td>United States</td>\n",
       "      <td>2.065652e+13</td>\n",
       "    </tr>\n",
       "    <tr>\n",
       "      <th>2019-01-01</th>\n",
       "      <td>United States</td>\n",
       "      <td>2.153998e+13</td>\n",
       "    </tr>\n",
       "    <tr>\n",
       "      <th>2020-01-01</th>\n",
       "      <td>United States</td>\n",
       "      <td>2.135410e+13</td>\n",
       "    </tr>\n",
       "    <tr>\n",
       "      <th>2021-01-01</th>\n",
       "      <td>United States</td>\n",
       "      <td>2.368117e+13</td>\n",
       "    </tr>\n",
       "    <tr>\n",
       "      <th>2022-01-01</th>\n",
       "      <td>United States</td>\n",
       "      <td>2.600689e+13</td>\n",
       "    </tr>\n",
       "    <tr>\n",
       "      <th>2023-01-01</th>\n",
       "      <td>United States</td>\n",
       "      <td>2.772071e+13</td>\n",
       "    </tr>\n",
       "  </tbody>\n",
       "</table>\n",
       "</div>"
      ],
      "text/plain": [
       "                  country  GDP (current U$$)\n",
       "date                                        \n",
       "2000-01-01  United States       1.025095e+13\n",
       "2001-01-01  United States       1.058193e+13\n",
       "2002-01-01  United States       1.092911e+13\n",
       "2003-01-01  United States       1.145645e+13\n",
       "2004-01-01  United States       1.221720e+13\n",
       "2005-01-01  United States       1.303920e+13\n",
       "2006-01-01  United States       1.381558e+13\n",
       "2007-01-01  United States       1.447423e+13\n",
       "2008-01-01  United States       1.476986e+13\n",
       "2009-01-01  United States       1.447807e+13\n",
       "2010-01-01  United States       1.504897e+13\n",
       "2011-01-01  United States       1.559973e+13\n",
       "2012-01-01  United States       1.625397e+13\n",
       "2013-01-01  United States       1.688068e+13\n",
       "2014-01-01  United States       1.760814e+13\n",
       "2015-01-01  United States       1.829502e+13\n",
       "2016-01-01  United States       1.880491e+13\n",
       "2017-01-01  United States       1.961210e+13\n",
       "2018-01-01  United States       2.065652e+13\n",
       "2019-01-01  United States       2.153998e+13\n",
       "2020-01-01  United States       2.135410e+13\n",
       "2021-01-01  United States       2.368117e+13\n",
       "2022-01-01  United States       2.600689e+13\n",
       "2023-01-01  United States       2.772071e+13"
      ]
     },
     "execution_count": 208,
     "metadata": {},
     "output_type": "execute_result"
    }
   ],
   "source": [
    "usa['date'] = pd.to_datetime(usa['date'])\n",
    "usa = usa.set_index('date')\n",
    "usa"
   ]
  },
  {
   "cell_type": "code",
   "execution_count": 286,
   "id": "98a9f623",
   "metadata": {},
   "outputs": [],
   "source": [
    "decomposicao_usa = seasonal_decompose(usa['GDP (current U$$)'])\n",
    "tendencia_usa = decomposicao_usa.trend"
   ]
  },
  {
   "cell_type": "code",
   "execution_count": 288,
   "id": "b9ce830e",
   "metadata": {},
   "outputs": [
    {
     "data": {
      "image/png": "[encoded data removed]",
      "text/plain": [
       "<Figure size 504x360 with 1 Axes>"
      ]
     },
     "metadata": {
      "needs_background": "light"
     },
     "output_type": "display_data"
    }
   ],
   "source": [
    "plt.figure(figsize=(7,5))\n",
    "plt.plot(tendencia_usa)\n",
    "plt.title('Tendência Estados Unidos', size=14)\n",
    "plt.show()"
   ]
  },
  {
   "cell_type": "code",
   "execution_count": 212,
   "id": "a38d30c9",
   "metadata": {},
   "outputs": [
    {
     "data": {
      "text/plain": [
       "24"
      ]
     },
     "execution_count": 212,
     "metadata": {},
     "output_type": "execute_result"
    }
   ],
   "source": [
    "len(usa)"
   ]
  },
  {
   "cell_type": "code",
   "execution_count": 341,
   "id": "7a878e4d",
   "metadata": {},
   "outputs": [],
   "source": [
    "train = usa['GDP (current U$$)'][:12]\n",
    "test = usa['GDP (current U$$)'][12:]"
   ]
  },
  {
   "cell_type": "code",
   "execution_count": 342,
   "id": "99ddc91c",
   "metadata": {},
   "outputs": [],
   "source": [
    "model = auto_arima(train, seasonal=False, suppress_warnings=True)"
   ]
  },
  {
   "cell_type": "code",
   "execution_count": 343,
   "id": "107e22ef",
   "metadata": {},
   "outputs": [],
   "source": [
    "forecast = model.predict(n_periods=len(test))\n",
    "predictions_usa = pd.DataFrame(forecast, columns=['PIB_Predictions'])"
   ]
  },
  {
   "cell_type": "code",
   "execution_count": 344,
   "id": "08761d32",
   "metadata": {},
   "outputs": [],
   "source": [
    "predictions_usa['Date'] = test.index\n",
    "predictions_usa.set_index('Date', inplace=True)"
   ]
  },
  {
   "cell_type": "code",
   "execution_count": 345,
   "id": "d01f51d3",
   "metadata": {},
   "outputs": [
    {
     "data": {
      "image/png": "[encoded data removed]",
      "text/plain": [
       "<Figure size 504x360 with 1 Axes>"
      ]
     },
     "metadata": {
      "needs_background": "light"
     },
     "output_type": "display_data"
    }
   ],
   "source": [
    "plt.figure(figsize=(7,5))\n",
    "plt.plot(train, label='Train')\n",
    "plt.plot(test, label='Test')\n",
    "plt.plot(predictions_usa, label='Predictions')\n",
    "plt.title('Previsão do PIB - EUA')\n",
    "plt.legend()\n",
    "plt.show()"
   ]
  },
  {
   "cell_type": "markdown",
   "id": "a9895606",
   "metadata": {},
   "source": [
    "# China"
   ]
  },
  {
   "cell_type": "code",
   "execution_count": 220,
   "id": "7e797aae",
   "metadata": {},
   "outputs": [],
   "source": [
    "china['date'] = pd.to_datetime(china['date'])\n",
    "china = china.set_index('date')"
   ]
  },
  {
   "cell_type": "code",
   "execution_count": 221,
   "id": "66ee3322",
   "metadata": {},
   "outputs": [],
   "source": [
    "decomposicao_china = seasonal_decompose(china['GDP (current U$$)'])\n",
    "tendencia_china = decomposicao_china.trend"
   ]
  },
  {
   "cell_type": "code",
   "execution_count": 222,
   "id": "53486ed0",
   "metadata": {},
   "outputs": [
    {
     "data": {
      "image/png": "[encoded data removed]",
      "text/plain": [
       "<Figure size 432x288 with 1 Axes>"
      ]
     },
     "metadata": {
      "needs_background": "light"
     },
     "output_type": "display_data"
    }
   ],
   "source": [
    "plt.plot(tendencia_china)\n",
    "plt.title('Tendência China')\n",
    "plt.show()"
   ]
  },
  {
   "cell_type": "code",
   "execution_count": 223,
   "id": "56ff0d78",
   "metadata": {},
   "outputs": [
    {
     "data": {
      "text/plain": [
       "24"
      ]
     },
     "execution_count": 223,
     "metadata": {},
     "output_type": "execute_result"
    }
   ],
   "source": [
    "len(china)"
   ]
  },
  {
   "cell_type": "code",
   "execution_count": 351,
   "id": "4d2d656d",
   "metadata": {},
   "outputs": [],
   "source": [
    "train = china['GDP (current U$$)'][:12]\n",
    "test = china['GDP (current U$$)'][12:]"
   ]
  },
  {
   "cell_type": "code",
   "execution_count": 352,
   "id": "ff1c71a8",
   "metadata": {},
   "outputs": [],
   "source": [
    "model = auto_arima(train, seasonal=False, suppress_warnings=True)"
   ]
  },
  {
   "cell_type": "code",
   "execution_count": 353,
   "id": "49acee7e",
   "metadata": {},
   "outputs": [],
   "source": [
    "forecast = model.predict(n_periods=len(test))\n",
    "predictions_china = pd.DataFrame(forecast, columns=['PIB_Predictions'])"
   ]
  },
  {
   "cell_type": "code",
   "execution_count": 354,
   "id": "bbe8e216",
   "metadata": {},
   "outputs": [],
   "source": [
    "predictions_china['Date'] = test.index\n",
    "predictions_china.set_index('Date', inplace=True)"
   ]
  },
  {
   "cell_type": "code",
   "execution_count": 357,
   "id": "323fdbbd",
   "metadata": {},
   "outputs": [
    {
     "data": {
      "image/png": "[encoded data removed]",
      "text/plain": [
       "<Figure size 504x360 with 1 Axes>"
      ]
     },
     "metadata": {
      "needs_background": "light"
     },
     "output_type": "display_data"
    }
   ],
   "source": [
    "plt.figure(figsize=(7,5))\n",
    "plt.plot(train, label='Train')\n",
    "plt.plot(test, label='Test')\n",
    "plt.plot(predictions_china, label='Predictions')\n",
    "plt.title('Previsão do PIB - China', size=14)\n",
    "plt.legend()\n",
    "plt.show()"
   ]
  }
 ],
 "metadata": {
  "kernelspec": {
   "display_name": "Python 3 (ipykernel)",
   "language": "python",
   "name": "python3"
  },
  "language_info": {
   "codemirror_mode": {
    "name": "ipython",
    "version": 3
   },
   "file_extension": ".py",
   "mimetype": "text/x-python",
   "name": "python",
   "nbconvert_exporter": "python",
   "pygments_lexer": "ipython3",
   "version": "3.9.12"
  }
 },
 "nbformat": 4,
 "nbformat_minor": 5
}
